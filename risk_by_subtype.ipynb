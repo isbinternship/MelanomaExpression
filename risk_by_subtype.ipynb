{
 "cells": [
  {
   "cell_type": "code",
   "execution_count": 1,
   "metadata": {},
   "outputs": [
    {
     "name": "stdout",
     "output_type": "stream",
     "text": [
      "2019-08-15 10:17:29 \t hello from miner2 version 0.0.9\n"
     ]
    }
   ],
   "source": [
    "import dill\n",
    "import miner2.miner as miner\n",
    "import os, sys, datetime\n",
    "import dill\n",
    "import numpy as np\n",
    "import pandas as pd\n",
    "import seaborn as sb\n",
    "import matplotlib\n",
    "import matplotlib.pyplot as plt\n",
    "from lifelines import KaplanMeierFitter\n",
    "%matplotlib inline\n",
    "\n",
    "\n",
    "results = '/Users/user/projects/melanoma/results/'\n",
    "resultsDirectory = '/Users/user/projects/melanoma/results/'\n",
    "dill.load_session(results + \"subtype_discovery.dill\")"
   ]
  },
  {
   "cell_type": "code",
   "execution_count": 2,
   "metadata": {},
   "outputs": [],
   "source": [
    "#load survival Data\n",
    "\n",
    "survivalSKCM = pd.read_csv(\"/Users/user/projects/melanoma/melanoma_data/clinical.tsv\", sep='\\t', index_col=0,header=0)\n",
    "survivalDfSKCM = survivalSKCM.iloc[:,7:9]\n",
    "survivalDfSKCM.columns = [\"status\", \"duration\"]\n",
    "survivalDfSKCM = survivalDfSKCM.loc[(survivalDfSKCM.status == 'Dead') | (survivalDfSKCM.status == 'Alive')]\n",
    "survivalDfSKCM.loc[survivalDfSKCM.status == 'Alive', 'duration'] = 0\n",
    "survivalDfSKCM.loc[:, 'duration'] = survivalDfSKCM.loc[:, 'duration'].astype(int)\n"
   ]
  },
  {
   "cell_type": "code",
   "execution_count": 20,
   "metadata": {},
   "outputs": [
    {
     "data": {
      "text/plain": [
       "Text(0.5, 0, 'timeline (# of years)')"
      ]
     },
     "execution_count": 20,
     "metadata": {},
     "output_type": "execute_result"
    },
    {
     "data": {
      "image/png": "[encoded data removed]",
      "text/plain": [
       "<Figure size 432x288 with 1 Axes>"
      ]
     },
     "metadata": {
      "needs_background": "light"
     },
     "output_type": "display_data"
    }
   ],
   "source": [
    "def getKMF (df, groupNumber):\n",
    "    groupSurvival = df.copy()\n",
    "    KMlabel = \"KM estimate for group \" + str(groupNumber)\n",
    "    durations = []\n",
    "    event_observed = []\n",
    "            \n",
    "    for status, days in groupSurvival.values:\n",
    "        if status == 'Dead':\n",
    "            durations.append(int(days/365))\n",
    "            event_observed.append(1)\n",
    "        elif status == 'Alive':\n",
    "            durations.append(max(df.loc[:, 'duration'].values)/365+1)\n",
    "            event_observed.append(0)\n",
    "    \n",
    "    kmf = KaplanMeierFitter()\n",
    "    kmf.fit(durations, event_observed, label= KMlabel)\n",
    "    \n",
    "    return kmf\n",
    "\n",
    "def getGroupedDf (survivalInfo, groups):\n",
    "    return survivalInfo\n",
    "\n",
    "    \n",
    "groupedSurvivalDfSKCM = getGroupedDf(survivalDfSKCM, groups)\n",
    "\n",
    "i = 0\n",
    "for group in groupedSurvivalDfSKCM:\n",
    "    kmf = getKMF(survivalDfSKCM, i)\n",
    "    ax = kmf.plot(ci_show=False, ax=ax)\n",
    "    i = i + 1\n",
    "    \n",
    "plt.title('Survival of Melanoma Patients')\n",
    "plt.ylabel('Fraction of patients that survive')\n",
    "plt.xlabel('timeline (# of years)')"
   ]
  },
  {
   "cell_type": "code",
   "execution_count": 18,
   "metadata": {},
   "outputs": [
    {
     "data": {
      "text/plain": [
       "Text(0.5, 0, 'timeline (# of years)')"
      ]
     },
     "execution_count": 18,
     "metadata": {},
     "output_type": "execute_result"
    },
    {
     "data": {
      "image/png": "[encoded data removed]",
      "text/plain": [
       "<Figure size 432x288 with 1 Axes>"
      ]
     },
     "metadata": {
      "needs_background": "light"
     },
     "output_type": "display_data"
    }
   ],
   "source": [
    "kmf1 = getKMF(survivalDfSKCM, i)\n",
    "ax = kmf1.plot(ci_show=False)\n",
    "\n",
    "kmf2 = getKMF(survivalDfSKCM, 1)\n",
    "kmf2.plot(ci_show=False, ax=ax)\n",
    "\n",
    "kmf2 = getKMF(survivalDfSKCM, 2)\n",
    "kmf2.plot(ci_show=False, ax=ax)\n",
    "\n",
    "plt.title('Survival of Melanoma Patients')\n",
    "plt.ylabel('Fraction of patients that survive')\n",
    "plt.xlabel('timeline (# of years)')"
   ]
  },
  {
   "cell_type": "code",
   "execution_count": null,
   "metadata": {},
   "outputs": [],
   "source": [
    "#subtract different kernels: kmf1.subtract(kmf2)\n",
    "\n",
    "# compares survivalness at a specific point in time\n",
    "    from lifelines.statistics import survival_difference_at_fixed_point_in_time_test\n",
    "results = survival_difference_at_fixed_point_in_time_test(point_in_time, T1, T2, event_observed_A=E1, event_observed_B=E2)\n",
    "results.print_summary()"
   ]
  },
  {
   "cell_type": "code",
   "execution_count": null,
   "metadata": {},
   "outputs": [],
   "source": [
    "# research hazard ratio from days to death\n",
    "# difference between the two lines is the hazard ratio, pretty much\n",
    "# look up what the header titles mean in GDC"
   ]
  }
 ],
 "metadata": {
  "kernelspec": {
   "display_name": "Python 3",
   "language": "python",
   "name": "python3"
  },
  "language_info": {
   "codemirror_mode": {
    "name": "ipython",
    "version": 3
   },
   "file_extension": ".py",
   "mimetype": "text/x-python",
   "name": "python",
   "nbconvert_exporter": "python",
   "pygments_lexer": "ipython3",
   "version": "3.7.3"
  }
 },
 "nbformat": 4,
 "nbformat_minor": 2
}
