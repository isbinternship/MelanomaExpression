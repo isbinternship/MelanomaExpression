{
 "cells": [
  {
   "cell_type": "code",
   "execution_count": 15,
   "metadata": {
    "scrolled": true
   },
   "outputs": [
    {
     "name": "stdout",
     "output_type": "stream",
     "text": [
      "completed z-transformation.\n",
      "2019-08-01 10:48:12 \t coexpression\n",
      "2019-08-01 10:48:13 \t working on coexpression step 1 out of 5\n",
      "2019-08-01 10:50:15 \t working on coexpression step 2 out of 5\n",
      "2019-08-01 10:51:17 \t working on coexpression step 3 out of 5\n",
      "2019-08-01 10:51:44 \t working on coexpression step 4 out of 5\n",
      "2019-08-01 10:51:56 \t working on coexpression step 5 out of 5\n",
      "2019-08-01 10:52:03 \t genes clustered: 10293\n",
      "2019-08-01 10:52:03 \t revising initial clusters\n",
      "2019-08-01 10:52:46 \t revision completed\n",
      "2019-08-01 10:52:46 \t genes clustered: 10293\n",
      "2019-08-01 10:52:46 \t unique clusters: 721\n"
     ]
    }
   ],
   "source": [
    "import miner2\n",
    "import miner2.miner, miner2.preprocess, miner2.coexpression\n",
    "import os, sys, datetime\n",
    "import dill\n",
    "import numpy as np\n",
    "import pandas as pd\n",
    "import matplotlib\n",
    "import matplotlib.pyplot as plt\n",
    "\n",
    "GDC_download_folder = '/Users/user/Projects/melanoma/melanoma_data'\n",
    "results = '/Users/user/Projects/melanoma/Results/'\n",
    "\n",
    "num_cores = 4\n",
    "min_number_genes = 6\n",
    "\n",
    "def removeGeneTail(expressionDataRaw):\n",
    "    rawCopy = expressionDataRaw.copy()\n",
    "    currentIndex = list(rawCopy.index)\n",
    "    newIndexes = []\n",
    "    \n",
    "    for geneName in currentIndex:\n",
    "        newName = geneName[0:geneName.find(\".\")]\n",
    "        newIndexes.append(newName)\n",
    "        \n",
    "    rawCopy.index = newIndexes\n",
    "    \n",
    "    return rawCopy\n",
    "\n",
    "#read raw FPKM files    \n",
    "expressionDataRaw = miner2.miner.readExpressionFromGZipFiles(GDC_download_folder)\n",
    "#truncate gene names\n",
    "expressionDataRaw = removeGeneTail(expressionDataRaw)\n",
    "#filter based on a minimum value: for a given gene, at least 20% of patients have to have FPKM values greater that 3\n",
    "expressionData = miner2.miner.transformFPKM(expressionDataRaw,fpkm_threshold=3,minFractionAboveThreshold=0.2,highlyExpressed=False)\n",
    "#take the z score of the data\n",
    "expressionData = miner2.preprocess.zscore(expressionData)\n",
    "\n",
    "#generate a coexpression dictionary(clusters)\n",
    "clusteredList = miner2.coexpression.cluster(expressionData, min_number_genes=min_number_genes, num_cores=num_cores)\n",
    "#revise initial clusters and create a dictionary for them\n",
    "coexpressionDict = miner2.coexpression.revise_initial_clusters(clusteredList, expressionData)\n",
    "\n",
    "#store all of these variables in a dill file\n",
    "#essentially this program does not need to be run again unless changes are made to it\n",
    "dill.dump_session(results+'clustered_data.dill')\n"
   ]
  }
 ],
 "metadata": {
  "kernelspec": {
   "display_name": "Python 3",
   "language": "python",
   "name": "python3"
  },
  "language_info": {
   "codemirror_mode": {
    "name": "ipython",
    "version": 3
   },
   "file_extension": ".py",
   "mimetype": "text/x-python",
   "name": "python",
   "nbconvert_exporter": "python",
   "pygments_lexer": "ipython3",
   "version": "3.7.3"
  }
 },
 "nbformat": 4,
 "nbformat_minor": 2
}
