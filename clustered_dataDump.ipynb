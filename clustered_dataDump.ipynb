{
 "cells": [
  {
   "cell_type": "code",
   "execution_count": 2,
   "metadata": {},
   "outputs": [
    {
     "name": "stdout",
     "output_type": "stream",
     "text": [
      "completed z-transformation.\n",
      "2019-07-26 15:57:49 \t coexpression\n",
      "2019-07-26 15:57:50 \t working on coexpression step 1 out of 5\n",
      "2019-07-26 16:00:27 \t working on coexpression step 2 out of 5\n",
      "2019-07-26 16:01:35 \t working on coexpression step 3 out of 5\n",
      "2019-07-26 16:02:08 \t working on coexpression step 4 out of 5\n",
      "2019-07-26 16:02:22 \t working on coexpression step 5 out of 5\n",
      "2019-07-26 16:02:31 \t genes clustered: 10301\n",
      "2019-07-26 16:02:31 \t revising initial clusters\n",
      "2019-07-26 16:02:58 \t revision completed\n",
      "2019-07-26 16:02:58 \t genes clustered: 10301\n",
      "2019-07-26 16:02:58 \t unique clusters: 733\n"
     ]
    }
   ],
   "source": [
    "import miner2\n",
    "import miner2.miner, miner2.preprocess, miner2.coexpression\n",
    "import os, sys, datetime\n",
    "import dill\n",
    "import numpy as np\n",
    "import pandas as pd\n",
    "import matplotlib\n",
    "import matplotlib.pyplot as plt\n",
    "\n",
    "GDC_download_folder = '/Users/user/Projects/melanoma/melanoma_data'\n",
    "results = '/Users/user/Projects/melanoma/Results/'\n",
    "\n",
    "num_cores = 4\n",
    "min_number_genes = 6\n",
    "\n",
    "#read raw FPKM files    \n",
    "expressionDataRaw = miner2.miner.readExpressionFromGZipFiles(GDC_download_folder)\n",
    "#filter based on a minimum value: for a given gene, at least 20% of patients have to have FPKM values greater that 3\n",
    "expressionData = miner2.miner.transformFPKM(expressionDataRaw,fpkm_threshold=3,minFractionAboveThreshold=0.2,highlyExpressed=False)\n",
    "#take the z score of the data\n",
    "expressionData = miner2.preprocess.zscore(expressionData)\n",
    "\n",
    "#generate a coexpression dictionary(clusters)\n",
    "clusteredList = miner2.coexpression.cluster(expressionData, min_number_genes=min_number_genes, num_cores=num_cores)\n",
    "#revise initial clusters and create a dictionary for them\n",
    "coexpressionDict = miner2.coexpression.revise_initial_clusters(clusteredList, expressionData)\n",
    "\n",
    "#store all of these variables in a dill file\n",
    "#essentially this program does not need to be run again unless changes are made to it\n",
    "dill.dump_session(results+'clustered_data.dill')\n"
   ]
  },
  {
   "cell_type": "code",
   "execution_count": null,
   "metadata": {},
   "outputs": [],
   "source": []
  }
 ],
 "metadata": {
  "kernelspec": {
   "display_name": "Python 2",
   "language": "python",
   "name": "python2"
  },
  "language_info": {
   "codemirror_mode": {
    "name": "ipython",
    "version": 2
   },
   "file_extension": ".py",
   "mimetype": "text/x-python",
   "name": "python",
   "nbconvert_exporter": "python",
   "pygments_lexer": "ipython2",
   "version": "2.7.16"
  }
 },
 "nbformat": 4,
 "nbformat_minor": 2
}
