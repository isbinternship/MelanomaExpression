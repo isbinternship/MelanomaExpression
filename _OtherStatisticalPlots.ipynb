{
 "cells": [
  {
   "cell_type": "code",
   "execution_count": 9,
   "metadata": {},
   "outputs": [
    {
     "name": "stdout",
     "output_type": "stream",
     "text": [
      "completed z-transformation.\n"
     ]
    },
    {
     "data": {
      "text/plain": [
       "<Figure size 432x288 with 0 Axes>"
      ]
     },
     "metadata": {},
     "output_type": "display_data"
    }
   ],
   "source": [
    "# BOXPLOT \n",
    "\n",
    "# FROM BEFORE\n",
    "#importing various things\n",
    "import miner2\n",
    "import miner2.miner, miner2.preprocess\n",
    "import seaborn as sb\n",
    "import matplotlib\n",
    "import matplotlib.pyplot as plt\n",
    "# variables\n",
    "GDC_download_folder = '/Users/user/projects/melanoma/GDC_Data/gdc_download'\n",
    "results_dir = '/Users/user/projects/melanoma/GDC_Data/results/'\n",
    "number_of_cases = 468\n",
    "# from creating expression table\n",
    "expressionDataRaw  = miner2.miner.readExpressionFromGZipFiles(GDC_download_folder)\n",
    "expressionData = miner2.miner.transformFPKM(expressionDataRaw,fpkm_threshold=1,minFractionAboveThreshold=0.5,highlyExpressed=False)\n",
    "expressionData = miner2.preprocess.zscore(expressionData)\n",
    "\n",
    "individual_expression_data = [expressionData.iloc[:,i] for i in range(number_of_cases)]\n",
    "matplotlib.pyplot.boxplot(individual_expression_data)\n",
    "matplotlib.pyplot.title(\"Patient expression profiles\")\n",
    "matplotlib.pyplot.ylabel(\"Relative expression\")\n",
    "matplotlib.pyplot.xlabel(\"Sample ID\")\n",
    "matplotlib.pyplot.xticks(fontsize=6)\n",
    "\n",
    "figure_name=results_dir+'figures/boxplots2.pdf'\n",
    "matplotlib.pyplot.tight_layout()\n",
    "matplotlib.pyplot.savefig(figure_name)\n",
    "matplotlib.pyplot.clf()"
   ]
  },
  {
   "cell_type": "code",
   "execution_count": 12,
   "metadata": {},
   "outputs": [
    {
     "name": "stdout",
     "output_type": "stream",
     "text": [
      "completed z-transformation.\n"
     ]
    },
    {
     "data": {
      "text/plain": [
       "<Figure size 432x288 with 0 Axes>"
      ]
     },
     "metadata": {},
     "output_type": "display_data"
    }
   ],
   "source": [
    "# HISTOGRAM OF ONE GENE\n",
    "\n",
    "# FROM BEFORE\n",
    "#importing various things\n",
    "import miner2\n",
    "import miner2.miner, miner2.preprocess\n",
    "import seaborn as sb\n",
    "import matplotlib\n",
    "import matplotlib.pyplot as plt\n",
    "# variables\n",
    "GDC_download_folder = '/Users/user/projects/melanoma/GDC_Data/gdc_download'\n",
    "results_dir = '/Users/user/projects/melanoma/GDC_Data/results/'\n",
    "# from creating expression table\n",
    "expressionDataRaw  = miner2.miner.readExpressionFromGZipFiles(GDC_download_folder)\n",
    "expressionData = miner2.miner.transformFPKM(expressionDataRaw,fpkm_threshold=1,minFractionAboveThreshold=0.5,highlyExpressed=False)\n",
    "expressionData = miner2.preprocess.zscore(expressionData)\n",
    "\n",
    "matplotlib.pyplot.hist(expressionData.iloc[1,:],bins=100,alpha=0.75)\n",
    "matplotlib.pyplot.title(\"Expression of single gene\")\n",
    "matplotlib.pyplot.ylabel(\"Frequency\")\n",
    "matplotlib.pyplot.xlabel(\"Relative expression\")\n",
    "\n",
    "figure_name=results_dir+'figures/singleGene1.pdf'\n",
    "matplotlib.pyplot.tight_layout()\n",
    "matplotlib.pyplot.savefig(figure_name)\n",
    "matplotlib.pyplot.clf()"
   ]
  },
  {
   "cell_type": "code",
   "execution_count": 13,
   "metadata": {},
   "outputs": [
    {
     "name": "stdout",
     "output_type": "stream",
     "text": [
      "completed z-transformation.\n"
     ]
    },
    {
     "data": {
      "text/plain": [
       "<Figure size 432x288 with 0 Axes>"
      ]
     },
     "metadata": {},
     "output_type": "display_data"
    }
   ],
   "source": [
    "# HISTOGRAM OF SINGLE PATIENT\n",
    "\n",
    "# FROM BEFORE\n",
    "#importing various things\n",
    "import miner2\n",
    "import miner2.miner, miner2.preprocess\n",
    "import seaborn as sb\n",
    "import matplotlib\n",
    "import matplotlib.pyplot as plt\n",
    "# variables\n",
    "GDC_download_folder = '/Users/user/projects/melanoma/GDC_Data/gdc_download'\n",
    "results_dir = '/Users/user/projects/melanoma/GDC_Data/results/'\n",
    "# from creating expression table\n",
    "expressionDataRaw  = miner2.miner.readExpressionFromGZipFiles(GDC_download_folder)\n",
    "expressionData = miner2.miner.transformFPKM(expressionDataRaw,fpkm_threshold=1,minFractionAboveThreshold=0.5,highlyExpressed=False)\n",
    "expressionData = miner2.preprocess.zscore(expressionData)\n",
    "\n",
    "matplotlib.pyplot.hist(expressionData.iloc[:,0],bins=200,color=[0,0.4,0.8],alpha=0.75)\n",
    "matplotlib.pyplot.ylim(0,350)\n",
    "matplotlib.pyplot.title(\"Expression of single patient sample\",FontSize=14)\n",
    "matplotlib.pyplot.ylabel(\"Frequency\")\n",
    "matplotlib.pyplot.xlabel(\"Relative expression\")\n",
    "\n",
    "figure_name=results_dir+'figures/singlePatient.pdf'\n",
    "matplotlib.pyplot.tight_layout()\n",
    "matplotlib.pyplot.savefig(figure_name)\n",
    "matplotlib.pyplot.clf()"
   ]
  }
 ],
 "metadata": {
  "kernelspec": {
   "display_name": "Python 2",
   "language": "python",
   "name": "python2"
  },
  "language_info": {
   "codemirror_mode": {
    "name": "ipython",
    "version": 2
   },
   "file_extension": ".py",
   "mimetype": "text/x-python",
   "name": "python",
   "nbconvert_exporter": "python",
   "pygments_lexer": "ipython2",
   "version": "2.7.16"
  }
 },
 "nbformat": 4,
 "nbformat_minor": 2
}
