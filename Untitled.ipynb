{
 "cells": [
  {
   "cell_type": "code",
   "execution_count": 11,
   "metadata": {},
   "outputs": [
    {
     "ename": "AttributeError",
     "evalue": "'module' object has no attribute 'readExpressionFromGZipFiles'",
     "output_type": "error",
     "traceback": [
      "\u001b[0;31m---------------------------------------------------------------------------\u001b[0m",
      "\u001b[0;31mAttributeError\u001b[0m                            Traceback (most recent call last)",
      "\u001b[0;32m<ipython-input-11-cd6ebdbf7fa6>\u001b[0m in \u001b[0;36m<module>\u001b[0;34m()\u001b[0m\n\u001b[1;32m      1\u001b[0m \u001b[0;32mimport\u001b[0m \u001b[0mminer2\u001b[0m\u001b[0;34m\u001b[0m\u001b[0m\n\u001b[1;32m      2\u001b[0m \u001b[0;34m\u001b[0m\u001b[0m\n\u001b[0;32m----> 3\u001b[0;31m \u001b[0mexpressionDataRaw\u001b[0m  \u001b[0;34m=\u001b[0m \u001b[0mminer2\u001b[0m\u001b[0;34m.\u001b[0m\u001b[0mreadExpressionFromGZipFiles\u001b[0m\u001b[0;34m(\u001b[0m\u001b[0;34m\"/Users/user/projects/melanoma/GDC_Data/gdc_download_20190715_181008.242157\"\u001b[0m\u001b[0;34m)\u001b[0m\u001b[0;34m\u001b[0m\u001b[0m\n\u001b[0m\u001b[1;32m      4\u001b[0m \u001b[0mexpressionData\u001b[0m \u001b[0;34m=\u001b[0m \u001b[0mminer2\u001b[0m\u001b[0;34m.\u001b[0m\u001b[0mtransformFPKM\u001b[0m\u001b[0;34m(\u001b[0m\u001b[0mexpressionDataRaw\u001b[0m\u001b[0;34m,\u001b[0m\u001b[0mfpkm_threshold\u001b[0m\u001b[0;34m=\u001b[0m\u001b[0;36m1\u001b[0m\u001b[0;34m,\u001b[0m\u001b[0mminFractionAboveThreshold\u001b[0m\u001b[0;34m=\u001b[0m\u001b[0;36m0.5\u001b[0m\u001b[0;34m,\u001b[0m\u001b[0mhighlyExpressed\u001b[0m\u001b[0;34m=\u001b[0m\u001b[0mFalse\u001b[0m\u001b[0;34m)\u001b[0m\u001b[0;34m\u001b[0m\u001b[0m\n\u001b[1;32m      5\u001b[0m \u001b[0mexpressionData\u001b[0m\u001b[0;34m,\u001b[0m \u001b[0mconversionTable\u001b[0m \u001b[0;34m=\u001b[0m \u001b[0mminer2\u001b[0m\u001b[0;34m.\u001b[0m\u001b[0midentifierConversion\u001b[0m\u001b[0;34m(\u001b[0m\u001b[0mexpressionData\u001b[0m\u001b[0;34m)\u001b[0m\u001b[0;34m\u001b[0m\u001b[0m\n",
      "\u001b[0;31mAttributeError\u001b[0m: 'module' object has no attribute 'readExpressionFromGZipFiles'"
     ]
    }
   ],
   "source": [
    "import miner2\n",
    "\n",
    "expressionDataRaw  = miner2.readExpressionFromGZipFiles(\"/Users/user/projects/melanoma/GDC_Data/gdc_download_20190715_181008.242157\")\n",
    "expressionData = miner2.transformFPKM(expressionDataRaw,fpkm_threshold=1,minFractionAboveThreshold=0.5,highlyExpressed=False)\n",
    "expressionData, conversionTable = miner2.identifierConversion(expressionData)\n",
    "expressionData = miner2.zscore(expressionData)\n",
    "\n"
   ]
  },
  {
   "cell_type": "code",
   "execution_count": null,
   "metadata": {},
   "outputs": [],
   "source": []
  },
  {
   "cell_type": "code",
   "execution_count": null,
   "metadata": {},
   "outputs": [],
   "source": []
  }
 ],
 "metadata": {
  "kernelspec": {
   "display_name": "Python 2",
   "language": "python",
   "name": "python2"
  },
  "language_info": {
   "codemirror_mode": {
    "name": "ipython",
    "version": 2
   },
   "file_extension": ".py",
   "mimetype": "text/x-python",
   "name": "python",
   "nbconvert_exporter": "python",
   "pygments_lexer": "ipython2",
   "version": "2.7.16"
  }
 },
 "nbformat": 4,
 "nbformat_minor": 2
}
