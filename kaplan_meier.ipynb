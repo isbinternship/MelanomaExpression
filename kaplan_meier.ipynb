{
 "cells": [
  {
   "cell_type": "code",
   "execution_count": 127,
   "metadata": {},
   "outputs": [],
   "source": [
    "import miner2\n",
    "import miner2.miner as miner\n",
    "import os, sys, datetime\n",
    "import dill\n",
    "import numpy as np\n",
    "import pandas as pd\n",
    "import seaborn as sb\n",
    "import matplotlib\n",
    "import matplotlib.pyplot as plt\n",
    "from lifelines import KaplanMeierFitter\n",
    "\n",
    "%matplotlib inline\n",
    "\n",
    "GDC_download_folder = '/Users/user/Projects/melanoma/data/melanoma_data'\n",
    "results = '/Users/user/Projects/melanoma/Results/'\n",
    "\n",
    "dill.load_session(results+'subtype_discovery.dill')\n",
    "\n",
    "#Variables\n",
    "    #num_cores = 4\n",
    "    #min_number_genes = 6\n",
    "    #min_correlation = 0.2\n",
    "    #\n",
    "    #expressionData (Dataframe of filtered genes against cases)\n",
    "    #coexpressionDict (Revised list of clusters formated as a dictionary)\n",
    "    #mechanistic_output (Dictionary of dictionaries???)\n",
    "    #referenceDictionary = mechanistic_output\n",
    "    \n",
    "pd.set_option('display.max_rows', 500)"
   ]
  },
  {
   "cell_type": "code",
   "execution_count": 128,
   "metadata": {},
   "outputs": [],
   "source": [
    "#load survival data\n",
    "survivalSKCM = pd.read_csv(\"/Users/user/Projects/melanoma/data/clinical.cart.2019-08-14/clinical.tsv\", sep='\\t', index_col=0,header=0)\n",
    "survivalDfSKCM = survivalSKCM.iloc[:,7:9]\n",
    "survivalDfSKCM.columns = [\"status\", \"duration\"]\n",
    "survivalDfSKCM = survivalDfSKCM.loc[(survivalDfSKCM.status == 'Dead') | (survivalDfSKCM.status == 'Alive')]\n",
    "survivalDfSKCM.loc[survivalDfSKCM.status == 'Alive', 'duration'] = 0\n",
    "survivalDfSKCM.loc[:, 'duration'] = survivalDfSKCM.loc[:, 'duration'].astype(int)\n",
    "# overExpressedMembersMatrixMMRF = overExpressedMembersMatrix\n",
    "# overExpressedMembersMatrixMMRF = overExpressedMembersMatrixMMRF.loc[orderedOverExpressedMembers.index,:]"
   ]
  },
  {
   "cell_type": "code",
   "execution_count": 163,
   "metadata": {},
   "outputs": [],
   "source": [
    "def kaplanMeier(df, groups=None, statusCol='status', durationCol='duration'):\n",
    "    allSurvival = df.copy()\n",
    "#     survivalGroups = np.array(groups)\n",
    "    \n",
    "    if groups == None:\n",
    "        durations = []\n",
    "        event_observed = []\n",
    "    \n",
    "        for status, days in allSurvival.values:\n",
    "            if status == 'Dead':\n",
    "                durations.append(int(days/365))\n",
    "                event_observed.append(1)\n",
    "            elif status == 'Alive':\n",
    "                durations.append(max(df.loc[:, 'duration'].values)/365+1)\n",
    "                event_observed.append(0)\n",
    "    \n",
    "        kmf = KaplanMeierFitter()\n",
    "        kmf.fit(durations, event_observed, label='KM Estimate')\n",
    "\n",
    "        kmf.plot(ci_show=False)\n",
    "    \n",
    "    elif groups is not None:\n",
    "        for subtype in groups:\n",
    "            tempDf = allSurvival.loc[subtype]\n",
    "            print(subtype)\n",
    "            print(tempDf)\n",
    "            \n",
    "            durations = []\n",
    "            event_observed = []\n",
    "\n",
    "            for status, days in allSurvival.values:\n",
    "                if status == 'Dead':\n",
    "                    durations.append(int(days/365))\n",
    "                    event_observed.append(1)\n",
    "                elif status == 'Alive':\n",
    "                    durations.append(max(df.loc[:, 'duration'].values)/365+1)\n",
    "                    event_observed.append(0)\n",
    "\n",
    "            kmf = KaplanMeierFitter()\n",
    "            kmf = kmf.fit(durations, event_observed, label='KM Estimate')\n",
    "            \n",
    "            \n",
    "            kmf.plot(ci_show=False)\n",
    "    \n",
    "    return kmf\n",
    "#             kmEstimate = kaplanMeier(groupdDf)"
   ]
  },
  {
   "cell_type": "code",
   "execution_count": 173,
   "metadata": {},
   "outputs": [
    {
     "ename": "KeyError",
     "evalue": "\"None of [Index(['9c77be54-d58e-4dec-8894-acb71a12cac5',\\n       '73ca07ee-562f-4aef-ab6e-52d7e63b1889',\\n       'd1aef548-e9d1-41ff-882d-7e781413e8b4',\\n       'f31c68cc-7ef2-4f72-9102-12dd0b73c1e9',\\n       'd860679e-7bee-4c69-a9f1-cbf70e643d8f',\\n       'cfe24c0a-1d21-49bb-8279-838a4f059e8a',\\n       '3b0c5062-fe86-49d7-a47e-4c3378c2a11a',\\n       '80b4ed3c-fc03-4d9e-92f8-d98a0e6df284',\\n       'b3eaff31-b803-47f9-acca-469053767155',\\n       'f8e4b067-7347-4600-a355-50f5e22ca1ee',\\n       'c62cc001-e373-466e-9305-32420ac84858',\\n       '4daeb7ad-987d-4759-9959-bf9d2410dff5',\\n       '0934e651-4cea-4450-b95e-25ee99e276f4',\\n       '422d6f92-793c-4784-8895-32a8b56da1fb',\\n       '9b7db555-eb53-44ed-aa55-82e79e5b1bd8',\\n       '6c23c1f8-53a8-4986-8423-71aef05bf8df',\\n       '42221037-1a44-416c-8e3e-fc1805b269de',\\n       'ac6098f3-b03b-4fd2-a214-cab070b2ccbd',\\n       '0d2ee969-027b-4a7e-be4d-c44aec59c23b',\\n       '25ae7e1d-5f00-4eeb-a188-747743ab2e2c',\\n       '560da967-7304-4c94-8d03-0fa10f4ae7eb',\\n       '4df76a95-9f81-4072-bace-6f18f6789bee',\\n       '75a36e71-400d-46a5-93b0-7813cf0595ea',\\n       '0a3f430a-7e5e-4e68-92cc-f767da7e361c',\\n       '9d6e0aaf-5b49-4e0f-9fbc-1e9b932ce1c0',\\n       '8e50bf0f-31ed-4d29-9928-7791d8a63041',\\n       'c8415aa5-13a1-4a37-b9f3-2fcf48dbe411',\\n       '0498d3e9-bf60-48ff-bf34-d9725718c576',\\n       '9943770b-b3e2-42c9-a286-85b558de7da3',\\n       '50a14323-4601-413d-b65d-b462c8864845',\\n       '8bb67073-1031-4c88-bd65-4fa365eb1699',\\n       '95259f41-ad84-40fb-8902-6f9bff618809',\\n       '0860ef52-bd40-42b9-9bcf-fe36be688c38',\\n       '35d4706b-4263-4717-86f1-b11caac5d152',\\n       '3320f3dc-67aa-440c-a817-24f5a04f1a14',\\n       'b885ce94-9a32-49ce-ad45-79d87f28bd77',\\n       '28974514-8de7-4fee-a55a-25a66fcbd1a8',\\n       '10651a27-351f-4909-b265-24e9f39814ae',\\n       'd864342f-43bc-4874-9d68-d3e4b886fd8d',\\n       'f7fb7de2-e995-4e5b-9362-b4e20ed44070',\\n       '49ce087b-90ea-498c-bb66-e3687f26d5f6',\\n       'f311b81e-f58e-4dac-be2d-5a39c19399ac',\\n       'aada5dcf-323a-41ac-8d96-523b14f66d11',\\n       'ef6b7979-4c9a-41e1-9edb-07cb1871b0ed',\\n       '7d4fcdee-2fe3-48dd-b2bb-3404ec0a6b05',\\n       'e99fba98-f95e-4fc9-aa7d-5f8164c06f2a',\\n       '28b9db81-0037-470e-b0e7-204f74b0dc10',\\n       '13904932-2d47-410b-915e-5e132524d783',\\n       'f3f24252-17e5-48f0-b917-88aef604d367',\\n       '25e2a15b-16b4-48dd-a983-4ddf6a6a418e',\\n       '08a7113b-b25a-46ea-95e9-d105af238af4',\\n       '5754df85-c90d-4fd5-854e-dc34e3a5aa31',\\n       'c8110d62-3184-468a-a1e0-f5bb7fc24e07',\\n       'bb38d854-bc27-4143-a7b0-e25181492dfa',\\n       '338b949b-f16c-4569-84c2-e2c2d60f2a82',\\n       '7b414ea9-1674-41c5-a0b2-5b1925ac9aec',\\n       'ad165038-c75c-4352-9cb3-b7fd8790d7c7',\\n       'a58be04b-e595-4124-81ad-accc532db49d',\\n       '61f6cb8d-5b6e-4385-bd7e-3a75e3c94ff5',\\n       'b147912f-7aa8-4d78-bdbc-7028fb73560d'],\\n      dtype='object', name='case_id')] are in the [index]\"",
     "output_type": "error",
     "traceback": [
      "\u001b[0;31m---------------------------------------------------------------------------\u001b[0m",
      "\u001b[0;31mKeyError\u001b[0m                                  Traceback (most recent call last)",
      "\u001b[0;32m<ipython-input-173-118658a09dc5>\u001b[0m in \u001b[0;36m<module>\u001b[0;34m\u001b[0m\n\u001b[1;32m      1\u001b[0m \u001b[0mtempGroup\u001b[0m \u001b[0;34m=\u001b[0m \u001b[0mnp\u001b[0m\u001b[0;34m.\u001b[0m\u001b[0marray\u001b[0m\u001b[0;34m(\u001b[0m\u001b[0mgroups\u001b[0m\u001b[0;34m[\u001b[0m\u001b[0;36m1\u001b[0m\u001b[0;34m]\u001b[0m\u001b[0;34m)\u001b[0m\u001b[0;34m\u001b[0m\u001b[0;34m\u001b[0m\u001b[0m\n\u001b[0;32m----> 2\u001b[0;31m \u001b[0mgroupDf\u001b[0m \u001b[0;34m=\u001b[0m \u001b[0msurvivalDfSKCM\u001b[0m\u001b[0;34m.\u001b[0m\u001b[0mloc\u001b[0m\u001b[0;34m[\u001b[0m\u001b[0mtempGroup\u001b[0m\u001b[0;34m]\u001b[0m\u001b[0;34m\u001b[0m\u001b[0;34m\u001b[0m\u001b[0m\n\u001b[0m",
      "\u001b[0;32m~/anaconda3/lib/python3.7/site-packages/pandas/core/indexing.py\u001b[0m in \u001b[0;36m__getitem__\u001b[0;34m(self, key)\u001b[0m\n\u001b[1;32m   1498\u001b[0m \u001b[0;34m\u001b[0m\u001b[0m\n\u001b[1;32m   1499\u001b[0m             \u001b[0mmaybe_callable\u001b[0m \u001b[0;34m=\u001b[0m \u001b[0mcom\u001b[0m\u001b[0;34m.\u001b[0m\u001b[0mapply_if_callable\u001b[0m\u001b[0;34m(\u001b[0m\u001b[0mkey\u001b[0m\u001b[0;34m,\u001b[0m \u001b[0mself\u001b[0m\u001b[0;34m.\u001b[0m\u001b[0mobj\u001b[0m\u001b[0;34m)\u001b[0m\u001b[0;34m\u001b[0m\u001b[0;34m\u001b[0m\u001b[0m\n\u001b[0;32m-> 1500\u001b[0;31m             \u001b[0;32mreturn\u001b[0m \u001b[0mself\u001b[0m\u001b[0;34m.\u001b[0m\u001b[0m_getitem_axis\u001b[0m\u001b[0;34m(\u001b[0m\u001b[0mmaybe_callable\u001b[0m\u001b[0;34m,\u001b[0m \u001b[0maxis\u001b[0m\u001b[0;34m=\u001b[0m\u001b[0maxis\u001b[0m\u001b[0;34m)\u001b[0m\u001b[0;34m\u001b[0m\u001b[0;34m\u001b[0m\u001b[0m\n\u001b[0m\u001b[1;32m   1501\u001b[0m \u001b[0;34m\u001b[0m\u001b[0m\n\u001b[1;32m   1502\u001b[0m     \u001b[0;32mdef\u001b[0m \u001b[0m_is_scalar_access\u001b[0m\u001b[0;34m(\u001b[0m\u001b[0mself\u001b[0m\u001b[0;34m,\u001b[0m \u001b[0mkey\u001b[0m\u001b[0;34m)\u001b[0m\u001b[0;34m:\u001b[0m\u001b[0;34m\u001b[0m\u001b[0;34m\u001b[0m\u001b[0m\n",
      "\u001b[0;32m~/anaconda3/lib/python3.7/site-packages/pandas/core/indexing.py\u001b[0m in \u001b[0;36m_getitem_axis\u001b[0;34m(self, key, axis)\u001b[0m\n\u001b[1;32m   1900\u001b[0m                     \u001b[0;32mraise\u001b[0m \u001b[0mValueError\u001b[0m\u001b[0;34m(\u001b[0m\u001b[0;34m'Cannot index with multidimensional key'\u001b[0m\u001b[0;34m)\u001b[0m\u001b[0;34m\u001b[0m\u001b[0;34m\u001b[0m\u001b[0m\n\u001b[1;32m   1901\u001b[0m \u001b[0;34m\u001b[0m\u001b[0m\n\u001b[0;32m-> 1902\u001b[0;31m                 \u001b[0;32mreturn\u001b[0m \u001b[0mself\u001b[0m\u001b[0;34m.\u001b[0m\u001b[0m_getitem_iterable\u001b[0m\u001b[0;34m(\u001b[0m\u001b[0mkey\u001b[0m\u001b[0;34m,\u001b[0m \u001b[0maxis\u001b[0m\u001b[0;34m=\u001b[0m\u001b[0maxis\u001b[0m\u001b[0;34m)\u001b[0m\u001b[0;34m\u001b[0m\u001b[0;34m\u001b[0m\u001b[0m\n\u001b[0m\u001b[1;32m   1903\u001b[0m \u001b[0;34m\u001b[0m\u001b[0m\n\u001b[1;32m   1904\u001b[0m             \u001b[0;31m# nested tuple slicing\u001b[0m\u001b[0;34m\u001b[0m\u001b[0;34m\u001b[0m\u001b[0;34m\u001b[0m\u001b[0m\n",
      "\u001b[0;32m~/anaconda3/lib/python3.7/site-packages/pandas/core/indexing.py\u001b[0m in \u001b[0;36m_getitem_iterable\u001b[0;34m(self, key, axis)\u001b[0m\n\u001b[1;32m   1203\u001b[0m             \u001b[0;31m# A collection of keys\u001b[0m\u001b[0;34m\u001b[0m\u001b[0;34m\u001b[0m\u001b[0;34m\u001b[0m\u001b[0m\n\u001b[1;32m   1204\u001b[0m             keyarr, indexer = self._get_listlike_indexer(key, axis,\n\u001b[0;32m-> 1205\u001b[0;31m                                                          raise_missing=False)\n\u001b[0m\u001b[1;32m   1206\u001b[0m             return self.obj._reindex_with_indexers({axis: [keyarr, indexer]},\n\u001b[1;32m   1207\u001b[0m                                                    copy=True, allow_dups=True)\n",
      "\u001b[0;32m~/anaconda3/lib/python3.7/site-packages/pandas/core/indexing.py\u001b[0m in \u001b[0;36m_get_listlike_indexer\u001b[0;34m(self, key, axis, raise_missing)\u001b[0m\n\u001b[1;32m   1159\u001b[0m         self._validate_read_indexer(keyarr, indexer,\n\u001b[1;32m   1160\u001b[0m                                     \u001b[0mo\u001b[0m\u001b[0;34m.\u001b[0m\u001b[0m_get_axis_number\u001b[0m\u001b[0;34m(\u001b[0m\u001b[0maxis\u001b[0m\u001b[0;34m)\u001b[0m\u001b[0;34m,\u001b[0m\u001b[0;34m\u001b[0m\u001b[0;34m\u001b[0m\u001b[0m\n\u001b[0;32m-> 1161\u001b[0;31m                                     raise_missing=raise_missing)\n\u001b[0m\u001b[1;32m   1162\u001b[0m         \u001b[0;32mreturn\u001b[0m \u001b[0mkeyarr\u001b[0m\u001b[0;34m,\u001b[0m \u001b[0mindexer\u001b[0m\u001b[0;34m\u001b[0m\u001b[0;34m\u001b[0m\u001b[0m\n\u001b[1;32m   1163\u001b[0m \u001b[0;34m\u001b[0m\u001b[0m\n",
      "\u001b[0;32m~/anaconda3/lib/python3.7/site-packages/pandas/core/indexing.py\u001b[0m in \u001b[0;36m_validate_read_indexer\u001b[0;34m(self, key, indexer, axis, raise_missing)\u001b[0m\n\u001b[1;32m   1244\u001b[0m                 raise KeyError(\n\u001b[1;32m   1245\u001b[0m                     u\"None of [{key}] are in the [{axis}]\".format(\n\u001b[0;32m-> 1246\u001b[0;31m                         key=key, axis=self.obj._get_axis_name(axis)))\n\u001b[0m\u001b[1;32m   1247\u001b[0m \u001b[0;34m\u001b[0m\u001b[0m\n\u001b[1;32m   1248\u001b[0m             \u001b[0;31m# We (temporarily) allow for some missing keys with .loc, except in\u001b[0m\u001b[0;34m\u001b[0m\u001b[0;34m\u001b[0m\u001b[0;34m\u001b[0m\u001b[0m\n",
      "\u001b[0;31mKeyError\u001b[0m: \"None of [Index(['9c77be54-d58e-4dec-8894-acb71a12cac5',\\n       '73ca07ee-562f-4aef-ab6e-52d7e63b1889',\\n       'd1aef548-e9d1-41ff-882d-7e781413e8b4',\\n       'f31c68cc-7ef2-4f72-9102-12dd0b73c1e9',\\n       'd860679e-7bee-4c69-a9f1-cbf70e643d8f',\\n       'cfe24c0a-1d21-49bb-8279-838a4f059e8a',\\n       '3b0c5062-fe86-49d7-a47e-4c3378c2a11a',\\n       '80b4ed3c-fc03-4d9e-92f8-d98a0e6df284',\\n       'b3eaff31-b803-47f9-acca-469053767155',\\n       'f8e4b067-7347-4600-a355-50f5e22ca1ee',\\n       'c62cc001-e373-466e-9305-32420ac84858',\\n       '4daeb7ad-987d-4759-9959-bf9d2410dff5',\\n       '0934e651-4cea-4450-b95e-25ee99e276f4',\\n       '422d6f92-793c-4784-8895-32a8b56da1fb',\\n       '9b7db555-eb53-44ed-aa55-82e79e5b1bd8',\\n       '6c23c1f8-53a8-4986-8423-71aef05bf8df',\\n       '42221037-1a44-416c-8e3e-fc1805b269de',\\n       'ac6098f3-b03b-4fd2-a214-cab070b2ccbd',\\n       '0d2ee969-027b-4a7e-be4d-c44aec59c23b',\\n       '25ae7e1d-5f00-4eeb-a188-747743ab2e2c',\\n       '560da967-7304-4c94-8d03-0fa10f4ae7eb',\\n       '4df76a95-9f81-4072-bace-6f18f6789bee',\\n       '75a36e71-400d-46a5-93b0-7813cf0595ea',\\n       '0a3f430a-7e5e-4e68-92cc-f767da7e361c',\\n       '9d6e0aaf-5b49-4e0f-9fbc-1e9b932ce1c0',\\n       '8e50bf0f-31ed-4d29-9928-7791d8a63041',\\n       'c8415aa5-13a1-4a37-b9f3-2fcf48dbe411',\\n       '0498d3e9-bf60-48ff-bf34-d9725718c576',\\n       '9943770b-b3e2-42c9-a286-85b558de7da3',\\n       '50a14323-4601-413d-b65d-b462c8864845',\\n       '8bb67073-1031-4c88-bd65-4fa365eb1699',\\n       '95259f41-ad84-40fb-8902-6f9bff618809',\\n       '0860ef52-bd40-42b9-9bcf-fe36be688c38',\\n       '35d4706b-4263-4717-86f1-b11caac5d152',\\n       '3320f3dc-67aa-440c-a817-24f5a04f1a14',\\n       'b885ce94-9a32-49ce-ad45-79d87f28bd77',\\n       '28974514-8de7-4fee-a55a-25a66fcbd1a8',\\n       '10651a27-351f-4909-b265-24e9f39814ae',\\n       'd864342f-43bc-4874-9d68-d3e4b886fd8d',\\n       'f7fb7de2-e995-4e5b-9362-b4e20ed44070',\\n       '49ce087b-90ea-498c-bb66-e3687f26d5f6',\\n       'f311b81e-f58e-4dac-be2d-5a39c19399ac',\\n       'aada5dcf-323a-41ac-8d96-523b14f66d11',\\n       'ef6b7979-4c9a-41e1-9edb-07cb1871b0ed',\\n       '7d4fcdee-2fe3-48dd-b2bb-3404ec0a6b05',\\n       'e99fba98-f95e-4fc9-aa7d-5f8164c06f2a',\\n       '28b9db81-0037-470e-b0e7-204f74b0dc10',\\n       '13904932-2d47-410b-915e-5e132524d783',\\n       'f3f24252-17e5-48f0-b917-88aef604d367',\\n       '25e2a15b-16b4-48dd-a983-4ddf6a6a418e',\\n       '08a7113b-b25a-46ea-95e9-d105af238af4',\\n       '5754df85-c90d-4fd5-854e-dc34e3a5aa31',\\n       'c8110d62-3184-468a-a1e0-f5bb7fc24e07',\\n       'bb38d854-bc27-4143-a7b0-e25181492dfa',\\n       '338b949b-f16c-4569-84c2-e2c2d60f2a82',\\n       '7b414ea9-1674-41c5-a0b2-5b1925ac9aec',\\n       'ad165038-c75c-4352-9cb3-b7fd8790d7c7',\\n       'a58be04b-e595-4124-81ad-accc532db49d',\\n       '61f6cb8d-5b6e-4385-bd7e-3a75e3c94ff5',\\n       'b147912f-7aa8-4d78-bdbc-7028fb73560d'],\\n      dtype='object', name='case_id')] are in the [index]\""
     ]
    }
   ],
   "source": [
    "tempGroup = np.array(groups[1])\n",
    "groupDf = survivalDfSKCM.loc[tempGroup]\n"
   ]
  },
  {
   "cell_type": "code",
   "execution_count": 165,
   "metadata": {},
   "outputs": [
    {
     "data": {
      "text/plain": [
       "<lifelines.KaplanMeierFitter: fitted with 459 observations, 238 censored>"
      ]
     },
     "execution_count": 165,
     "metadata": {},
     "output_type": "execute_result"
    }
   ],
   "source": []
  },
  {
   "cell_type": "code",
   "execution_count": 170,
   "metadata": {},
   "outputs": [
    {
     "data": {
      "text/plain": [
       "array(['9c77be54-d58e-4dec-8894-acb71a12cac5',\n",
       "       '73ca07ee-562f-4aef-ab6e-52d7e63b1889',\n",
       "       'd1aef548-e9d1-41ff-882d-7e781413e8b4',\n",
       "       'f31c68cc-7ef2-4f72-9102-12dd0b73c1e9',\n",
       "       'd860679e-7bee-4c69-a9f1-cbf70e643d8f',\n",
       "       'cfe24c0a-1d21-49bb-8279-838a4f059e8a',\n",
       "       '3b0c5062-fe86-49d7-a47e-4c3378c2a11a',\n",
       "       '80b4ed3c-fc03-4d9e-92f8-d98a0e6df284',\n",
       "       'b3eaff31-b803-47f9-acca-469053767155',\n",
       "       'f8e4b067-7347-4600-a355-50f5e22ca1ee',\n",
       "       'c62cc001-e373-466e-9305-32420ac84858',\n",
       "       '4daeb7ad-987d-4759-9959-bf9d2410dff5',\n",
       "       '0934e651-4cea-4450-b95e-25ee99e276f4',\n",
       "       '422d6f92-793c-4784-8895-32a8b56da1fb',\n",
       "       '9b7db555-eb53-44ed-aa55-82e79e5b1bd8',\n",
       "       '6c23c1f8-53a8-4986-8423-71aef05bf8df',\n",
       "       '42221037-1a44-416c-8e3e-fc1805b269de',\n",
       "       'ac6098f3-b03b-4fd2-a214-cab070b2ccbd',\n",
       "       '0d2ee969-027b-4a7e-be4d-c44aec59c23b',\n",
       "       '25ae7e1d-5f00-4eeb-a188-747743ab2e2c',\n",
       "       '560da967-7304-4c94-8d03-0fa10f4ae7eb',\n",
       "       '4df76a95-9f81-4072-bace-6f18f6789bee',\n",
       "       '75a36e71-400d-46a5-93b0-7813cf0595ea',\n",
       "       '0a3f430a-7e5e-4e68-92cc-f767da7e361c',\n",
       "       '9d6e0aaf-5b49-4e0f-9fbc-1e9b932ce1c0',\n",
       "       '8e50bf0f-31ed-4d29-9928-7791d8a63041',\n",
       "       'c8415aa5-13a1-4a37-b9f3-2fcf48dbe411',\n",
       "       '0498d3e9-bf60-48ff-bf34-d9725718c576',\n",
       "       '9943770b-b3e2-42c9-a286-85b558de7da3',\n",
       "       '50a14323-4601-413d-b65d-b462c8864845',\n",
       "       '8bb67073-1031-4c88-bd65-4fa365eb1699',\n",
       "       '95259f41-ad84-40fb-8902-6f9bff618809',\n",
       "       '0860ef52-bd40-42b9-9bcf-fe36be688c38',\n",
       "       '35d4706b-4263-4717-86f1-b11caac5d152',\n",
       "       '3320f3dc-67aa-440c-a817-24f5a04f1a14',\n",
       "       'b885ce94-9a32-49ce-ad45-79d87f28bd77',\n",
       "       '28974514-8de7-4fee-a55a-25a66fcbd1a8',\n",
       "       '10651a27-351f-4909-b265-24e9f39814ae',\n",
       "       'd864342f-43bc-4874-9d68-d3e4b886fd8d',\n",
       "       'f7fb7de2-e995-4e5b-9362-b4e20ed44070',\n",
       "       '49ce087b-90ea-498c-bb66-e3687f26d5f6',\n",
       "       'f311b81e-f58e-4dac-be2d-5a39c19399ac',\n",
       "       'aada5dcf-323a-41ac-8d96-523b14f66d11',\n",
       "       'ef6b7979-4c9a-41e1-9edb-07cb1871b0ed',\n",
       "       '7d4fcdee-2fe3-48dd-b2bb-3404ec0a6b05',\n",
       "       'e99fba98-f95e-4fc9-aa7d-5f8164c06f2a',\n",
       "       '28b9db81-0037-470e-b0e7-204f74b0dc10',\n",
       "       '13904932-2d47-410b-915e-5e132524d783',\n",
       "       'f3f24252-17e5-48f0-b917-88aef604d367',\n",
       "       '25e2a15b-16b4-48dd-a983-4ddf6a6a418e',\n",
       "       '08a7113b-b25a-46ea-95e9-d105af238af4',\n",
       "       '5754df85-c90d-4fd5-854e-dc34e3a5aa31',\n",
       "       'c8110d62-3184-468a-a1e0-f5bb7fc24e07',\n",
       "       'bb38d854-bc27-4143-a7b0-e25181492dfa',\n",
       "       '338b949b-f16c-4569-84c2-e2c2d60f2a82',\n",
       "       '7b414ea9-1674-41c5-a0b2-5b1925ac9aec',\n",
       "       'ad165038-c75c-4352-9cb3-b7fd8790d7c7',\n",
       "       'a58be04b-e595-4124-81ad-accc532db49d',\n",
       "       '61f6cb8d-5b6e-4385-bd7e-3a75e3c94ff5',\n",
       "       'b147912f-7aa8-4d78-bdbc-7028fb73560d'], dtype=object)"
      ]
     },
     "execution_count": 170,
     "metadata": {},
     "output_type": "execute_result"
    }
   ],
   "source": [
    "np.array(groups[1])"
   ]
  }
 ],
 "metadata": {
  "kernelspec": {
   "display_name": "Python 3",
   "language": "python",
   "name": "python3"
  },
  "language_info": {
   "codemirror_mode": {
    "name": "ipython",
    "version": 3
   },
   "file_extension": ".py",
   "mimetype": "text/x-python",
   "name": "python",
   "nbconvert_exporter": "python",
   "pygments_lexer": "ipython3",
   "version": "3.7.3"
  }
 },
 "nbformat": 4,
 "nbformat_minor": 2
}
