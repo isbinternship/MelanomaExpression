{
 "cells": [
  {
   "cell_type": "code",
   "execution_count": null,
   "metadata": {},
   "outputs": [],
   "source": [
    "# FROM BEFORE\n",
    "#importing various things\n",
    "import miner2\n",
    "import miner2.miner, miner2.preprocess\n",
    "import seaborn as sb\n",
    "import matplotlib\n",
    "import matplotlib.pyplot as plt\n",
    "# variables\n",
    "GDC_download_folder = '/Users/user/projects/melanoma/GDC_Data/gdc_download'\n",
    "results_dir = '/Users/user/projects/melanoma/GDC_Data/results/'\n",
    "# from creating expression table\n",
    "expressionDataRaw  = miner2.miner.readExpressionFromGZipFiles(GDC_download_folder)\n",
    "# expressionData = miner2.miner.transformFPKM(expressionDataRaw,fpkm_threshold=1,minFractionAboveThreshold=0.5,highlyExpressed=False)\n",
    "# expressionData = miner2.preprocess.zscore(expressionData)\n",
    "\n",
    "matplotlib.pyplot.hist(expressionData.iloc[:,0],bins=200,color=[0,0.4,0.8],alpha=0.75)\n",
    "matplotlib.pyplot.ylim(0,350)\n",
    "matplotlib.pyplot.title(\"Expression of single patient sample\",FontSize=14)\n",
    "matplotlib.pyplot.ylabel(\"Frequency\")\n",
    "matplotlib.pyplot.xlabel(\"Relative expression\")\n",
    "matplotlib.pyplot.show()\n",
    "\n",
    "# figure_name=results_dir+'figures/singlePatient.pdf'\n",
    "# matplotlib.pyplot.tight_layout()\n",
    "# matplotlib.pyplot.savefig(figure_name)\n",
    "# matplotlib.pyplot.clf()"
   ]
  }
 ],
 "metadata": {
  "kernelspec": {
   "display_name": "Python 2",
   "language": "python",
   "name": "python2"
  },
  "language_info": {
   "codemirror_mode": {
    "name": "ipython",
    "version": 2
   },
   "file_extension": ".py",
   "mimetype": "text/x-python",
   "name": "python",
   "nbconvert_exporter": "python",
   "pygments_lexer": "ipython2",
   "version": "2.7.16"
  }
 },
 "nbformat": 4,
 "nbformat_minor": 2
}
