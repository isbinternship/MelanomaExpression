{
 "cells": [
  {
   "cell_type": "code",
   "execution_count": 2,
   "metadata": {},
   "outputs": [
    {
     "name": "stdout",
     "output_type": "stream",
     "text": [
      "2019-08-01 10:58:13 \t hello from miner2 version 0.0.9\n",
      "2019-08-01 10:58:17 \t preparing mechanistic inference\n",
      "2019-08-01 10:58:21 \t mechanistic inference\n",
      "completed\n"
     ]
    }
   ],
   "source": [
    "import miner2\n",
    "import miner2.miner, miner2.preprocess, miner2.coexpression, miner2.mechanistic_inference\n",
    "import os, sys, datetime\n",
    "import dill\n",
    "import numpy as np\n",
    "import pandas as pd\n",
    "import seaborn as sb\n",
    "import matplotlib\n",
    "import matplotlib.pyplot as plt\n",
    "\n",
    "GDC_download_folder = '/Users/user/Projects/melanoma/melanoma_data'\n",
    "results = '/Users/user/Projects/melanoma/Results/'\n",
    "\n",
    "dill.load_session(results+'clustered_data.dill')\n",
    "\n",
    "num_cores = 4\n",
    "min_correlation = 0.2\n",
    "\n",
    "#Variables:\n",
    "    #expressionData: Dataframe of cases and genes (472 cases and 10970 genes)\n",
    "    #clusteredList: List of lists of initial clusters (10301 genes clustered)\n",
    "    #coexpressionDict: Dictionary of clusters (Their are 733 unique clusters)\n",
    "       \n",
    "axes = miner2.mechanistic_inference.get_principal_df(coexpressionDict, expressionData, subkey=None, min_number_genes=1)\n",
    "mechanistic_output = miner2.mechanistic_inference.enrichment(axes, coexpressionDict, expressionData, correlation_threshold=min_correlation, num_cores=num_cores)\n"
   ]
  }
 ],
 "metadata": {
  "kernelspec": {
   "display_name": "Python 3",
   "language": "python",
   "name": "python3"
  },
  "language_info": {
   "codemirror_mode": {
    "name": "ipython",
    "version": 3
   },
   "file_extension": ".py",
   "mimetype": "text/x-python",
   "name": "python",
   "nbconvert_exporter": "python",
   "pygments_lexer": "ipython3",
   "version": "3.7.3"
  }
 },
 "nbformat": 4,
 "nbformat_minor": 2
}
