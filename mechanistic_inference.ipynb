{
 "cells": [
  {
   "cell_type": "code",
   "execution_count": 3,
   "metadata": {},
   "outputs": [
    {
     "name": "stdout",
     "output_type": "stream",
     "text": [
      "2019-07-30 10:56:25 \t hello from miner2 version 0.0.9\n",
      "2019-07-30 10:56:30 \t preparing mechanistic inference\n",
      "2019-07-30 10:56:52 \t mechanistic inference\n",
      "completed\n"
     ]
    }
   ],
   "source": [
    "import miner2\n",
    "import miner2.miner, miner2.preprocess, miner2.coexpression, miner2.mechanistic_inference\n",
    "import os, sys, datetime\n",
    "import dill\n",
    "import numpy as np\n",
    "import pandas as pd\n",
    "import seaborn as sb\n",
    "import matplotlib\n",
    "import matplotlib.pyplot as plt\n",
    "\n",
    "GDC_download_folder = '/Users/user/Projects/melanoma/melanoma_data'\n",
    "results = '/Users/user/Projects/melanoma/Results/'\n",
    "\n",
    "dill.load_session(results+'clustered_data.dill')\n",
    "\n",
    "num_cores = 4\n",
    "min_correlation = 0.2\n",
    "\n",
    "#Variables:\n",
    "    #expressionData: Dataframe of cases and genes (472 cases and 10970 genes)\n",
    "    #clusteredList: List of lists of initial clusters (10301 genes clustered)\n",
    "    #coexpressionDict: Dictionary of clusters (Their are 733 unique clusters)\n",
    "       \n",
    "axes = miner2.mechanistic_inference.get_principal_df(coexpressionDict, expressionData, subkey=None, min_number_genes=1)\n",
    "mechanistic_output = miner2.mechanistic_inference.enrichment(axes, coexpressionDict, expressionData, correlation_threshold=min_correlation, num_cores=num_cores)\n"
   ]
  },
  {
   "cell_type": "code",
   "execution_count": 32,
   "metadata": {},
   "outputs": [
    {
     "data": {
      "text/plain": [
       "{}"
      ]
     },
     "execution_count": 32,
     "metadata": {},
     "output_type": "execute_result"
    }
   ],
   "source": [
    "mechanistic_output"
   ]
  },
  {
   "cell_type": "code",
   "execution_count": 25,
   "metadata": {},
   "outputs": [
    {
     "data": {
      "text/plain": [
       "0    2.587994\n",
       "dtype: float64"
      ]
     },
     "execution_count": 25,
     "metadata": {},
     "output_type": "execute_result"
    }
   ],
   "source": [
    "import sklearn, sklearn.decomposition\n",
    "\n",
    "group = coexpressionDict['199']\n",
    "clusterExpData = expressionData.loc[group].T\n",
    "pca = sklearn.decomposition.PCA(1,random_state=12)\n",
    "principal_components = pca.fit_transform(clusterExpData)\n",
    "df = pd.DataFrame(principal_components)\n",
    "df.index=expressionData.columns\n",
    "means = np.mean(df,axis=0)\n",
    "std = np.std(df,axis=0)\n",
    "std"
   ]
  },
  {
   "cell_type": "code",
   "execution_count": 30,
   "metadata": {},
   "outputs": [
    {
     "data": {
      "text/plain": [
       "0   -1.411300e-17\n",
       "dtype: float64"
      ]
     },
     "execution_count": 30,
     "metadata": {},
     "output_type": "execute_result"
    }
   ],
   "source": [
    "df = df/std\n",
    "mean = np.mean(df)\n",
    "mean"
   ]
  },
  {
   "cell_type": "code",
   "execution_count": null,
   "metadata": {},
   "outputs": [],
   "source": []
  }
 ],
 "metadata": {
  "kernelspec": {
   "display_name": "Python 2",
   "language": "python",
   "name": "python2"
  },
  "language_info": {
   "codemirror_mode": {
    "name": "ipython",
    "version": 2
   },
   "file_extension": ".py",
   "mimetype": "text/x-python",
   "name": "python",
   "nbconvert_exporter": "python",
   "pygments_lexer": "ipython2",
   "version": "2.7.16"
  }
 },
 "nbformat": 4,
 "nbformat_minor": 2
}
