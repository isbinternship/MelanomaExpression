{
 "cells": [
  {
   "cell_type": "code",
   "execution_count": 8,
   "metadata": {},
   "outputs": [],
   "source": [
    "import numpy as np\n",
    "import pandas as pd\n",
    "import os\n",
    "import seaborn as sb\n",
    "import matplotlib.pyplot as plt\n",
    "\n",
    "#os.chdir('/Users/user/melanoma_training')\n",
    "    \n",
    "#df = pd.read_csv(\"gdc_download/Case_1/9c77be54-d58e-4dec-8894-acb71a12cac5.FPKM.txt\", sep='\\t', header=None, index_col=[0])\n",
    "\n",
    "rootDir = '/Users/user/melanoma_training/gdc_download'\n",
    "sample_dfs = []\n",
    "for dirName, subdirList, fileList in os.walk(rootDir):\n",
    "    for fname in fileList:\n",
    "        #print('\\t%s' % fname)\n",
    "        #extension = fname.split(\".\")[1]\n",
    "        #print extension\n",
    "        #print fname\n",
    "        if (\"FPKM\" in fname) == True:\n",
    "            #print fname\n",
    "            path = os.path.join(rootDir,dirName,fname)\n",
    "            df = pd.read_csv(path, index_col=0, header=None, sep='\\t', quotechar='\"')\n",
    "            df.columns = [fname.split(\".\")[0]]\n",
    "            sample_dfs.append(df)\n",
    "\n",
    "expressionData = pd.concat(sample_dfs,axis=1)\n",
    "\n",
    "zero = np.percentile(expressionData,0)\n",
    "# meanCheck = numpy.mean(expressionData[expressionData>zero].mean(axis=1,skipna=True))\n",
    "# if meanCheck<0.1:\n",
    "#     return expressionData\n",
    "# means = expressionData.mean(axis=1,skipna=True)\n",
    "# stds = expressionData.std(axis=1,skipna=True)\n",
    "# try:\n",
    "#     transform = ((expressionData.T - means)/stds).T\n",
    "# except:\n",
    "#     passIndex = numpy.where(stds>0)[0]\n",
    "#     transform = ((expressionData.iloc[passIndex,:].T - means[passIndex])/stds[passIndex]).T\n",
    "# print(\"completed z-transformation.\")\n",
    "# return transform\n",
    "\n",
    "\n",
    "\n",
    "\n",
    "\n",
    "\n",
    "#expressionData\n",
    "#heat_map = sb.heatmap(expressionData, xticklabels=False, yticklabels=False, vmin=0, vmax=1, cmap=\"Reds\")\n",
    "\n",
    "#plt.show()\n"
   ]
  },
  {
   "cell_type": "code",
   "execution_count": null,
   "metadata": {},
   "outputs": [],
   "source": []
  }
 ],
 "metadata": {
  "kernelspec": {
   "display_name": "Python 2",
   "language": "python",
   "name": "python2"
  },
  "language_info": {
   "codemirror_mode": {
    "name": "ipython",
    "version": 2
   },
   "file_extension": ".py",
   "mimetype": "text/x-python",
   "name": "python",
   "nbconvert_exporter": "python",
   "pygments_lexer": "ipython2",
   "version": "2.7.16"
  }
 },
 "nbformat": 4,
 "nbformat_minor": 2
}
