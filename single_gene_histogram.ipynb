{
 "cells": [
  {
   "cell_type": "code",
   "execution_count": 8,
   "metadata": {},
   "outputs": [
    {
     "ename": "AttributeError",
     "evalue": "'list' object has no attribute 'clear'",
     "output_type": "error",
     "traceback": [
      "\u001b[0;31m---------------------------------------------------------------------------\u001b[0m",
      "\u001b[0;31mAttributeError\u001b[0m                            Traceback (most recent call last)",
      "\u001b[0;32m<ipython-input-8-93f3fea833f9>\u001b[0m in \u001b[0;36m<module>\u001b[0;34m()\u001b[0m\n\u001b[1;32m     42\u001b[0m         \u001b[0mfpkmFile\u001b[0m\u001b[0;34m.\u001b[0m\u001b[0mclose\u001b[0m\u001b[0;34m(\u001b[0m\u001b[0;34m)\u001b[0m\u001b[0;34m\u001b[0m\u001b[0m\n\u001b[1;32m     43\u001b[0m         \u001b[0mfpkmArray\u001b[0m\u001b[0;34m.\u001b[0m\u001b[0mappend\u001b[0m\u001b[0;34m(\u001b[0m\u001b[0mtempFpkm\u001b[0m\u001b[0;34m)\u001b[0m\u001b[0;34m\u001b[0m\u001b[0m\n\u001b[0;32m---> 44\u001b[0;31m         \u001b[0mtempFpkm\u001b[0m\u001b[0;34m.\u001b[0m\u001b[0mclear\u001b[0m\u001b[0;34m(\u001b[0m\u001b[0;34m)\u001b[0m\u001b[0;34m\u001b[0m\u001b[0m\n\u001b[0m\u001b[1;32m     45\u001b[0m \u001b[0;34m\u001b[0m\u001b[0m\n\u001b[1;32m     46\u001b[0m \u001b[0;31m#print(fpkmArray)\u001b[0m\u001b[0;34m\u001b[0m\u001b[0;34m\u001b[0m\u001b[0m\n",
      "\u001b[0;31mAttributeError\u001b[0m: 'list' object has no attribute 'clear'"
     ]
    }
   ],
   "source": [
    "import os\n",
    "import numpy as np\n",
    "import matplotlib.mlab as mlab\n",
    "import matplotlib.pyplot as plt\n",
    "\n",
    "os.chdir('/Users/user/melanoma_training')\n",
    "\n",
    "currentDir = 'gdc_download'\n",
    "_dir = os.listdir(currentDir)\n",
    "\n",
    "fpkmArray = []\n",
    "\n",
    "for _folder in _dir:\n",
    "    if os.path.isfile(_folder) == True:\n",
    "        continue\n",
    "    \n",
    "    folderContent = os.listdir(os.path.join(currentDir, _folder))\n",
    "    \n",
    "    for _file in folderContent:\n",
    "        fileType = \"FPKM\" in _file\n",
    "        if fileType == False:\n",
    "            continue\n",
    "            \n",
    "        currentFile = os.path.join(currentDir, _folder, _file)\n",
    "\n",
    "        fpkmFile = open(currentFile, \"rt\")\n",
    "        \n",
    "        tempFpkm = []\n",
    "        #count = 0\n",
    "        \n",
    "        for _line in fpkmFile.readlines():\n",
    "            wordArray = _line.split(\"\\t\")\n",
    "            geneName = wordArray[0]\n",
    "            fpkm = float(wordArray[1][:-2])\n",
    "            \n",
    "            tempFpkm.append(fpkm)\n",
    "                #fpkmArray[count] = fpkm\n",
    "                #count += 1\n",
    "        \n",
    "        #print(len(tempFpkm))\n",
    "        \n",
    "        fpkmFile.close()\n",
    "        #fpkmArray.append(tempFpkm)\n",
    "        #tempFpkm.clear()\n",
    "        \n",
    "#print(fpkmArray)\n",
    "\n",
    "num_bins = 30\n",
    "#n, bins, patches = plt.hist(fpkmArray, num_bins, facecolor='blue', alpha=0.5)\n",
    "#plt.show()\n",
    "\n",
    "# print \"\"\n",
    "# print \"The maximum is \" + str(max(fpkmArray))\n",
    "# print \"the minimum is \" + str(min(fpkmArray))\n",
    "\n",
    "# #calculate mean\n",
    "# total = 0; mean = 0; length = len(fpkmArray)\n",
    "# for number in fpkmArray: \n",
    "#     total += number\n",
    "# mean = total / length\n",
    "# print \"The mean is \" + str(mean)\n",
    "\n",
    "    \n",
    "        \n",
    "#Gene we're interested in: ENSG00000198242.12"
   ]
  },
  {
   "cell_type": "code",
   "execution_count": 2,
   "metadata": {},
   "outputs": [
    {
     "data": {
      "image/png": "[encoded data removed]",
      "text/plain": [
       "<Figure size 432x288 with 1 Axes>"
      ]
     },
     "metadata": {
      "needs_background": "light"
     },
     "output_type": "display_data"
    }
   ],
   "source": [
    "import os\n",
    "import numpy as np\n",
    "import matplotlib.mlab as mlab\n",
    "import matplotlib.pyplot as plt\n",
    "\n",
    "os.chdir('/Users/user/melanoma_training')\n",
    "\n",
    "currentDir = 'gdc_download'\n",
    "_dir = os.listdir(currentDir)\n",
    "\n",
    "fpkmArray = []\n",
    "\n",
    "for _folder in _dir:\n",
    "    if os.path.isfile(_folder) == True:\n",
    "        continue\n",
    "    \n",
    "    folderContent = os.listdir(os.path.join(currentDir, _folder))\n",
    "    \n",
    "    for _file in folderContent:\n",
    "        fileType = \"FPKM\" in _file\n",
    "        if fileType == False:\n",
    "            continue\n",
    "            \n",
    "        currentFile = os.path.join(currentDir, _folder, _file)\n",
    "\n",
    "        fpkmFile = open(currentFile, \"rt\")\n",
    "        \n",
    "        #count = 0\n",
    "        \n",
    "        \n",
    "        for _line in fpkmFile.readlines():\n",
    "            wordArray = _line.split(\"\\t\")\n",
    "            geneName = wordArray[0]\n",
    "            fpkm = float(wordArray[1][:-2])\n",
    "            \n",
    "            if geneName == \"ENSG00000147889.15\":\n",
    "                #print(fpkm)\n",
    "                fpkmArray.append(fpkm)\n",
    "                #fpkmArray[count] = fpkm\n",
    "                #count += 1\n",
    "            \n",
    "        fpkmFile.close()\n",
    "        \n",
    "#print(fpkmArray)\n",
    "\n",
    "num_bins = 30\n",
    "n, bins, patches = plt.hist(fpkmArray, num_bins, facecolor='blue', alpha=0.5)\n",
    "plt.show()"
   ]
  },
  {
   "cell_type": "code",
   "execution_count": null,
   "metadata": {},
   "outputs": [],
   "source": []
  }
 ],
 "metadata": {
  "kernelspec": {
   "display_name": "Python 2",
   "language": "python",
   "name": "python2"
  },
  "language_info": {
   "codemirror_mode": {
    "name": "ipython",
    "version": 2
   },
   "file_extension": ".py",
   "mimetype": "text/x-python",
   "name": "python",
   "nbconvert_exporter": "python",
   "pygments_lexer": "ipython2",
   "version": "2.7.16"
  }
 },
 "nbformat": 4,
 "nbformat_minor": 2
}
