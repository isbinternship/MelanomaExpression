{
 "cells": [
  {
   "cell_type": "code",
   "execution_count": null,
   "metadata": {},
   "outputs": [],
   "source": [
    "# HEAT MAP ON OUR OWN\n",
    "# this is the code that we used to create the heat map using our own code\n",
    "\n",
    "#from before\n",
    "#importing various things\n",
    "import miner2\n",
    "import seaborn as sb\n",
    "import matplotlib\n",
    "import matplotlib.pyplot as plt\n",
    "# variables\n",
    "GDC_download_folder = '/Users/user/projects/melanoma/GDC_Data/gdc_download'\n",
    "results_dir = '/Users/user/projects/melanoma/GDC_Data/results'\n",
    "# from creating expression table\n",
    "expressionDataRaw  = miner2.miner.readExpressionFromGZipFiles(GDC_download_folder)\n",
    "expressionData = miner2.miner.transformFPKM(expressionDataRaw,fpkm_threshold=1,minFractionAboveThreshold=0.5,highlyExpressed=False)\n",
    "expressionData = miner2.preprocess.zscore(expressionData)\n",
    "\n",
    "# creating the heat map\n",
    "heat_map = sb.heatmap(expressionData, cmap=\"PuBuGn\", xticklabels=False, yticklabels=False)\n",
    "\n",
    "# titles and axis for the heat map\n",
    "plt.xlabel(\"Cases\")\n",
    "plt.ylabel(\"Genes\")\n",
    "plt.title(\"Melanoma Expression Map\")\n",
    "plt.show()"
   ]
  },
  {
   "cell_type": "code",
   "execution_count": null,
   "metadata": {},
   "outputs": [],
   "source": []
  }
 ],
 "metadata": {
  "kernelspec": {
   "display_name": "Python 2",
   "language": "python",
   "name": "python2"
  },
  "language_info": {
   "codemirror_mode": {
    "name": "ipython",
    "version": 2
   },
   "file_extension": ".py",
   "mimetype": "text/x-python",
   "name": "python",
   "nbconvert_exporter": "python",
   "pygments_lexer": "ipython2",
   "version": "2.7.16"
  }
 },
 "nbformat": 4,
 "nbformat_minor": 2
}
