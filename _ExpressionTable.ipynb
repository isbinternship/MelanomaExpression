{
 "cells": [
  {
   "cell_type": "code",
   "execution_count": null,
   "metadata": {},
   "outputs": [],
   "source": [
    "# FAILED CREATING EXPRESSION TABLE\n",
    "# this is the first trial using miner2. It did not work, as it was trying to read the folder as a file \n",
    "\n",
    "# import stuff\n",
    "import miner2\n",
    "import miner2.preprocess, miner2.coexpression, miner2.mechanistic_inference, miner2.miner, miner2.__init__\n",
    "import os, sys, numpy, datetime\n",
    "import matplotlib, matplotlib.pyplot\n",
    "\n",
    "# variables\n",
    "GDC_download_folder = '/Users/user/projects/melanoma/GDC_zipFiles'\n",
    "results_dir = '/Users/user/projects/melanoma/GDC_Data/results'\n",
    "\n",
    "#preprocess the data\n",
    "expression_data, conversion_table = miner2.preprocess.main(GDC_download_folder)\n",
    "    # does not access files in the foler"
   ]
  },
  {
   "cell_type": "code",
   "execution_count": 9,
   "metadata": {},
   "outputs": [
    {
     "name": "stdout",
     "output_type": "stream",
     "text": [
      "completed z-transformation.\n"
     ]
    }
   ],
   "source": [
    "#CREATING EXPRESSION TABLE\n",
    "#this is our second attempt using the old miner to preprocess the data, which effectively created an expression table\n",
    "\n",
    "#importing various things\n",
    "import miner2\n",
    "\n",
    "# variables\n",
    "GDC_download_folder = '/Users/user/projects/melanoma/GDC_zipFiles'\n",
    "results_dir = '/Users/user/projects/melanoma/GDC_Data/results'\n",
    "\n",
    "\n",
    "# preprocessing the data into a readable format\n",
    "expressionDataRaw  = miner2.miner.readExpressionFromGZipFiles(GDC_download_folder)\n",
    "expressionData = miner2.miner.transformFPKM(expressionDataRaw,fpkm_threshold=1,minFractionAboveThreshold=0.5,highlyExpressed=False)\n",
    "#expressionData, conversionTable = miner2.miner.identifierConversion(expressionData)\n",
    "    # error: IOError: [Errno 2] File ../data/identifier_mappings.txt does not exist: '../data/identifier_mappings.txt'\n",
    "    # we do not need to use this because the genes are already mapped, and the correct values are assigned to the correct genes\n",
    "expressionData = miner2.preprocess.zscore(expressionData)"
   ]
  },
  {
   "cell_type": "code",
   "execution_count": null,
   "metadata": {},
   "outputs": [],
   "source": [
    "#MYLES' EXPRESSION TABLE\n",
    "\n",
    "import miner2\n",
    "import miner2.miner as miner\n",
    "import miner2.preprocess\n",
    "import os, sys, datetime\n",
    "import numpy as np\n",
    "import pandas as pd\n",
    "import seaborn as sb\n",
    "import matplotlib\n",
    "import matplotlib.pyplot as plt\n",
    "\n",
    "rootDir = '/Users/user/melanoma_training/gdc_download'\n",
    "\n",
    "sample_dfs = []\n",
    "\n",
    "for dirName, subdirList, fileList in os.walk(rootDir):\n",
    "    for fname in fileList:\n",
    "        #print('\\t%s' % fname)\n",
    "        #extension = fname.split(\".\")[1]\n",
    "        \n",
    "        if (\"FPKM\" in fname) == True:\n",
    "            #print fname\n",
    "            path = os.path.join(rootDir,dirName,fname)\n",
    "            df = pd.read_csv(path, index_col=0, header=None, sep='\\t', quotechar='\"')\n",
    "            df.columns = [fname.split(\".\")[0]]\n",
    "            sample_dfs.append(df)\n",
    "\n",
    "expressionDataRaw = pd.concat(sample_dfs,axis=1)\n",
    "\n",
    "expressionData = miner.transformFPKM(expressionDataRaw,fpkm_threshold=1,minFractionAboveThreshold=0.5,highlyExpressed=False)\n",
    "expressionData = miner2.preprocess.zscore(expressionData)"
   ]
  },
  {
   "cell_type": "code",
   "execution_count": null,
   "metadata": {},
   "outputs": [],
   "source": []
  },
  {
   "cell_type": "code",
   "execution_count": null,
   "metadata": {},
   "outputs": [],
   "source": []
  }
 ],
 "metadata": {
  "kernelspec": {
   "display_name": "Python 2",
   "language": "python",
   "name": "python2"
  },
  "language_info": {
   "codemirror_mode": {
    "name": "ipython",
    "version": 2
   },
   "file_extension": ".py",
   "mimetype": "text/x-python",
   "name": "python",
   "nbconvert_exporter": "python",
   "pygments_lexer": "ipython2",
   "version": "2.7.16"
  }
 },
 "nbformat": 4,
 "nbformat_minor": 2
}
